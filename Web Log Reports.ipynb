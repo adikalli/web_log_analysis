{
 "cells": [
  {
   "cell_type": "code",
   "execution_count": 3,
   "metadata": {},
   "outputs": [],
   "source": [
    "import findspark\n",
    "findspark.init()"
   ]
  },
  {
   "cell_type": "code",
   "execution_count": 4,
   "metadata": {},
   "outputs": [],
   "source": [
    "from pyspark.sql import SparkSession\n",
    "from pyspark.sql.functions import *\n",
    "from pyspark.sql.types import *"
   ]
  },
  {
   "cell_type": "code",
   "execution_count": 5,
   "metadata": {},
   "outputs": [],
   "source": [
    "spark=SparkSession.builder.appName('Web Log Report Analysis').enableHiveSupport().getOrCreate()"
   ]
  },
  {
   "cell_type": "code",
   "execution_count": 6,
   "metadata": {},
   "outputs": [],
   "source": [
    "columns=['Timestamp','ReportType','Target','Referrer','Link','SessionId','SessionCount','PageTitle','LoadTime','ViewTime','Embedded','Cookie','HSResponseTime','PrefetchElement'\n",
    ",'ElementsinHints','HintAlreadySeen','Viewedfor1sttimePrefetched','Viewed1sttimenotPrefetched','ConxSpeed','ConxType','PrevConxType','VisitstoOrder','DaystoOrder','VisitFreq'\n",
    ",'PurchaseFreq','VisChip','TimeinSession','PreprocRules','Secondssincelastpage','ScreenResolution','ColorDepth','CookiesEnabled','ReferringURL','Product1stVisit','FlashVersion'\n",
    ",'UserAgent','RemoteIP','Serial','TargetMatches','NormalizedTarget','ThirdPartyCookieEnabled','Dummy']            "
   ]
  },
  {
   "cell_type": "code",
   "execution_count": 7,
   "metadata": {},
   "outputs": [],
   "source": [
    "df =spark.read.option(\"delimiter\", \"}\")\\\n",
    "            .csv(r\"D:\\Projects\\Udemy\\web_log_report_analysis\\Data.txt\",inferSchema='true')\\\n",
    "            .toDF(*columns)\\\n",
    "            .withColumn('SessionCount',col('SessionCount').cast('bigint'))\\\n",
    "            .drop(col('Dummy'))"
   ]
  },
  {
   "cell_type": "code",
   "execution_count": 8,
   "metadata": {},
   "outputs": [],
   "source": [
    "df.createOrReplaceTempView('weblog')"
   ]
  },
  {
   "cell_type": "code",
   "execution_count": 9,
   "metadata": {},
   "outputs": [
    {
     "name": "stdout",
     "output_type": "stream",
     "text": [
      "+-----+\n",
      "|count|\n",
      "+-----+\n",
      "|  219|\n",
      "+-----+\n",
      "\n"
     ]
    }
   ],
   "source": [
    "spark.sql('select count(*) as count from weblog').show()"
   ]
  },
  {
   "cell_type": "markdown",
   "metadata": {},
   "source": [
    "### Session Report\n",
    "#### The number of sessions within the selected time frame\n",
    "\n",
    "#### Session Count - Session count is a record of the number of times a user visits your website within a given timeframe, such as day, week, or month. A cookie on the visitor’s browser is used to track the user’s activity between the time they enter your domain and the time they leave."
   ]
  },
  {
   "cell_type": "code",
   "execution_count": 10,
   "metadata": {},
   "outputs": [
    {
     "name": "stdout",
     "output_type": "stream",
     "text": [
      "+----------+----+------------------+------------------+\n",
      "|      Date|Time|SessionCountByHour|        Percentage|\n",
      "+----------+----+------------------+------------------+\n",
      "|2019-05-18|  07|                84| 4.017216642754662|\n",
      "|2019-05-18|  08|               177| 8.464849354375897|\n",
      "|2019-05-18|  09|               286| 13.67766618842659|\n",
      "|2019-05-18|  09|               231|11.047345767575322|\n",
      "|2019-05-18|  10|               259|12.386417981826877|\n",
      "|2019-05-18|  11|               461|22.046867527498804|\n",
      "|2019-05-18|  12|               229| 10.95169775227164|\n",
      "|2019-05-18|  13|               364|17.407938785270204|\n",
      "+----------+----+------------------+------------------+\n",
      "\n"
     ]
    }
   ],
   "source": [
    "spark.sql(\"\"\"select from_unixtime(Timestamp, \"yyyy-MM-dd\") as Date\n",
    "                ,from_unixtime(Timestamp, \"HH\") as Time, sum(SessionCount) as SessionCountByHour\n",
    "                ,(sum(SessionCount)/(select sum(SessionCount) from weblog) * 100) as Percentage  \n",
    "            from weblog \n",
    "            group by Timestamp order by Time\"\"\").show()"
   ]
  },
  {
   "cell_type": "markdown",
   "metadata": {},
   "source": [
    "### Page Views Report\n",
    "#### The number of page views within the selected time frame.\n",
    "\n",
    "#### Page Views - A pageview is each time a visitor views a page on your website, regardless of how many hits are generated"
   ]
  },
  {
   "cell_type": "code",
   "execution_count": 11,
   "metadata": {},
   "outputs": [
    {
     "name": "stdout",
     "output_type": "stream",
     "text": [
      "+----------+----+----------+------------------+\n",
      "|      Date|Time|PagesViews|        Percentage|\n",
      "+----------+----+----------+------------------+\n",
      "|2019-05-18|  07|        11|5.0228310502283104|\n",
      "|2019-05-18|  08|        15|6.8493150684931505|\n",
      "|2019-05-18|  09|        30|13.698630136986301|\n",
      "|2019-05-18|  09|        28|12.785388127853881|\n",
      "|2019-05-18|  10|        32| 14.61187214611872|\n",
      "|2019-05-18|  11|        47|21.461187214611872|\n",
      "|2019-05-18|  12|        22|10.045662100456621|\n",
      "|2019-05-18|  13|        34| 15.52511415525114|\n",
      "+----------+----+----------+------------------+\n",
      "\n"
     ]
    }
   ],
   "source": [
    "spark.sql(\"\"\"\n",
    "select from_unixtime(Timestamp, \"yyyy-MM-dd\") as Date, \n",
    "        from_unixtime(Timestamp, \"HH\") as Time, \n",
    "        count(PageTitle) as PagesViews, \n",
    "        (count(PageTitle)/(select count(*) from weblog) * 100) as Percentage \n",
    "from  weblog group by Timestamp order by Time\"\"\").show()"
   ]
  },
  {
   "cell_type": "markdown",
   "metadata": {},
   "source": [
    "### New Visitor Report\n",
    "#### New Visitors are the number of distinct New users that have visited the Website during a given time period.\n",
    "###### _Using Dataframe Operations_"
   ]
  },
  {
   "cell_type": "code",
   "execution_count": 12,
   "metadata": {},
   "outputs": [
    {
     "name": "stdout",
     "output_type": "stream",
     "text": [
      "+----------+----+-----------+\n",
      "|      Date|Time|New_Visitor|\n",
      "+----------+----+-----------+\n",
      "|2019-05-18|  07|          6|\n",
      "|2019-05-18|  08|          8|\n",
      "|2019-05-18|  09|         28|\n",
      "|2019-05-18|  10|         16|\n",
      "|2019-05-18|  11|         30|\n",
      "|2019-05-18|  12|          8|\n",
      "|2019-05-18|  13|         19|\n",
      "+----------+----+-----------+\n",
      "\n"
     ]
    }
   ],
   "source": [
    "\n",
    "df.select(from_unixtime('Timestamp', \"yyyy-MM-dd\").alias('Date'),\\\n",
    "            from_unixtime('Timestamp', \"HH\").alias('Time'),'Viewedfor1sttimePrefetched')\\\n",
    "            .filter(col('Viewedfor1sttimePrefetched')=='YES')\\\n",
    "            .groupBy(col('Date'),col('Time')).agg(count('*').alias('New_Visitor')).orderBy(col('Time')).show()"
   ]
  },
  {
   "cell_type": "markdown",
   "metadata": {},
   "source": [
    "#### Using SQL Operations"
   ]
  },
  {
   "cell_type": "code",
   "execution_count": 13,
   "metadata": {},
   "outputs": [
    {
     "name": "stdout",
     "output_type": "stream",
     "text": [
      "+-------------------+----------+----+----------+\n",
      "|           Referrer|      Date|Time|NewVisitor|\n",
      "+-------------------+----------+----+----------+\n",
      "|   www.snapchat.com|2019-05-18|  11|         3|\n",
      "|      www.skype.com|2019-05-18|  09|         3|\n",
      "|     www.wechat.com|2019-05-18|  11|         3|\n",
      "|www.tieba.baidu.com|2019-05-18|  11|         3|\n",
      "|      www.weibo.com|2019-05-18|  09|         2|\n",
      "|     www.reddit.com|2019-05-18|  11|         2|\n",
      "|   www.qzone.qq.com|2019-05-18|  08|         2|\n",
      "|      www.viber.com|2019-05-18|  13|         2|\n",
      "|  www.instagram.com|2019-05-18|  08|         2|\n",
      "|     www.google.com|2019-05-18|  11|         2|\n",
      "|      www.viber.com|2019-05-18|  09|         2|\n",
      "|         www.vk.com|2019-05-18|  09|         2|\n",
      "|   www.whatsapp.com|2019-05-18|  09|         2|\n",
      "|        www.line.me|2019-05-18|  09|         2|\n",
      "|      www.weibo.com|2019-05-18|  11|         2|\n",
      "|    www.taringa.net|2019-05-18|  11|         2|\n",
      "|      www.viber.com|2019-05-18|  11|         2|\n",
      "|      www.skype.com|2019-05-18|  13|         2|\n",
      "|     www.tumblr.com|2019-05-18|  13|         2|\n",
      "|  www.pinterest.com|2019-05-18|  09|         2|\n",
      "+-------------------+----------+----+----------+\n",
      "only showing top 20 rows\n",
      "\n"
     ]
    }
   ],
   "source": [
    "spark.sql(\"\"\"select Referrer, from_unixtime(Timestamp, \"yyyy-MM-dd\") as Date, \n",
    "                from_unixtime(Timestamp, \"HH\") as Time, \n",
    "                count(Viewedfor1sttimePrefetched) as NewVisitor \n",
    "            from weblog \n",
    "                where Viewedfor1sttimePrefetched = \"YES\" \n",
    "            group by referrer ,Timestamp order by count(Viewedfor1sttimePrefetched) desc\"\"\").show()"
   ]
  },
  {
   "cell_type": "markdown",
   "metadata": {},
   "source": [
    "### Referring Domains Report\n",
    "#### Referring domains are Web sites that end users visited before going to your Web site. They can indicate popular link to your Website."
   ]
  },
  {
   "cell_type": "code",
   "execution_count": 14,
   "metadata": {},
   "outputs": [
    {
     "name": "stdout",
     "output_type": "stream",
     "text": [
      "+-------------------+-------+------+-------------+\n",
      "|           Referrer|Session|Orders|Revenue(in $)|\n",
      "+-------------------+-------+------+-------------+\n",
      "|    www.taringa.net|    105|    10|      47546.0|\n",
      "|   www.snapchat.com|     96|    12|      62749.0|\n",
      "|         www.qq.com|    130|    12|      55367.0|\n",
      "| www.foursquare.com|     83|     8|      48707.0|\n",
      "|www.tieba.baidu.com|     57|     6|      33008.0|\n",
      "|     www.renren.com|     89|    13|      58873.0|\n",
      "|     www.tumblr.com|     80|     9|      33580.0|\n",
      "|     www.reddit.com|    118|    13|      74768.0|\n",
      "|     www.wechat.com|     93|     8|      22479.0|\n",
      "|     www.google.com|    105|    10|      44768.0|\n",
      "|   www.facebook.com|     87|     9|      43438.0|\n",
      "|        www.line.me|     84|    11|      57456.0|\n",
      "|   www.telegram.org|     70|     7|      35249.0|\n",
      "|      www.weibo.com|     80|     8|      51534.0|\n",
      "|    www.twitter.com|     64|     5|      17148.0|\n",
      "|      www.skype.com|     93|    10|      37012.0|\n",
      "|         www.vk.com|    103|    10|      59586.0|\n",
      "|      www.viber.com|     97|    12|      66978.0|\n",
      "|   www.whatsapp.com|     77|     8|      40206.0|\n",
      "|  www.instagram.com|     99|    11|      54714.0|\n",
      "+-------------------+-------+------+-------------+\n",
      "only showing top 20 rows\n",
      "\n"
     ]
    }
   ],
   "source": [
    "spark.sql(\"\"\"SELECT Referrer, sum(SessionCount) as Session, count(Referrer) as Orders, \n",
    "                    sum(split(NormalizedTarget, '/')[1]) as `Revenue(in $)` from weblog group by Referrer;\"\"\").show()"
   ]
  },
  {
   "cell_type": "markdown",
   "metadata": {},
   "source": [
    "### Top IP Addresses Report\n",
    "#### This report ranks the IP addresses of visitors accessing your website in terms of number of sessions"
   ]
  },
  {
   "cell_type": "code",
   "execution_count": 15,
   "metadata": {},
   "outputs": [
    {
     "name": "stdout",
     "output_type": "stream",
     "text": [
      "+-------------+-------+------+-------+\n",
      "|     RemoteIP|Session|Orders|Revenue|\n",
      "+-------------+-------+------+-------+\n",
      "|     10.0.1.1|     95|    10|53226.0|\n",
      "| 192.168.1.10|     86|     9|52344.0|\n",
      "|  192.168.1.1|     86|    10|58979.0|\n",
      "| 192.168.0.10|     78|     8|45170.0|\n",
      "| 192.168.1.99|     77|     6|24334.0|\n",
      "| 192.168.55.1|     74|     7|26139.0|\n",
      "|192.168.10.50|     70|     6|33529.0|\n",
      "| 192.168.11.1|     68|     7|30694.0|\n",
      "|     10.0.0.2|     64|     5|20707.0|\n",
      "|192.168.1.100|     62|     6|22358.0|\n",
      "|192.168.10.10|     60|     5|27378.0|\n",
      "|    10.1.10.1|     58|     6|33138.0|\n",
      "|  192.168.8.1|     57|     6|36657.0|\n",
      "|  192.168.3.1|     54|     7|44057.0|\n",
      "|  192.168.0.1|     52|     5|16627.0|\n",
      "|192.168.0.254|     48|     6|35383.0|\n",
      "| 192.168.15.1|     47|     4| 7384.0|\n",
      "|   10.0.0.138|     47|     4|12454.0|\n",
      "|192.168.2.254|     45|     4|21894.0|\n",
      "|  192.168.4.1|     44|     5|23283.0|\n",
      "+-------------+-------+------+-------+\n",
      "only showing top 20 rows\n",
      "\n"
     ]
    }
   ],
   "source": [
    "spark.sql(\"\"\"SELECT RemoteIP, sum(SessionCount) as Session, count(RemoteIP) as Orders, \n",
    "sum(split(NormalizedTarget, '/')[1]) as Revenue \n",
    "from weblog group by RemoteIP order by sum(SessionCount) desc\"\"\").show()"
   ]
  },
  {
   "cell_type": "markdown",
   "metadata": {},
   "source": [
    "###  Search Query Report\n",
    "* Search queries are the key words entered into Internet search engines that provided results directing end users to your Web site.\n",
    "* This report depicts the top search queries that led users to your site and allows you to compare the number of page hits received by each search query"
   ]
  },
  {
   "cell_type": "code",
   "execution_count": 16,
   "metadata": {},
   "outputs": [
    {
     "name": "stdout",
     "output_type": "stream",
     "text": [
      "+----------------------+--------+\n",
      "|SearchQuery           |Requests|\n",
      "+----------------------+--------+\n",
      "|Mobile                |15      |\n",
      "|Health Care Appliances|14      |\n",
      "|Television            |14      |\n",
      "|Desktop PCs           |13      |\n",
      "|Watches               |13      |\n",
      "|Kitchen Appliances    |12      |\n",
      "|Beauty and Grooming   |12      |\n",
      "|Home Entertainment    |11      |\n",
      "|Laptops               |11      |\n",
      "|Mens Footware         |10      |\n",
      "|Computer Accessories  |9       |\n",
      "|Refrigerators         |9       |\n",
      "|Accessories           |8       |\n",
      "|Womens Footware       |7       |\n",
      "|Washing Machines      |7       |\n",
      "|Mens Clothing         |7       |\n",
      "|Table                 |7       |\n",
      "|Android TV            |7       |\n",
      "|Mobile Accessories    |6       |\n",
      "|Womens Clothing       |6       |\n",
      "+----------------------+--------+\n",
      "only showing top 20 rows\n",
      "\n"
     ]
    }
   ],
   "source": [
    "df.select(split('PreprocRules','=')[1].alias('SearchQuery'))\\\n",
    "            .groupBy(col('SearchQuery')).agg(count('*').alias('Requests'))\\\n",
    "            .orderBy(desc('Requests')).show(truncate=False)\n"
   ]
  },
  {
   "cell_type": "markdown",
   "metadata": {},
   "source": [
    "#### Browser Used for Shopping"
   ]
  },
  {
   "cell_type": "code",
   "execution_count": 17,
   "metadata": {},
   "outputs": [
    {
     "name": "stdout",
     "output_type": "stream",
     "text": [
      "+-----------------+----------------+\n",
      "|          Browser|count(UserAgent)|\n",
      "+-----------------+----------------+\n",
      "|        Pale Moon|              24|\n",
      "|         Basilisk|              18|\n",
      "|           Chrome|              18|\n",
      "|           Safari|              17|\n",
      "|            Opera|              15|\n",
      "|    Google Chrome|              12|\n",
      "|        SeaMonkey|              11|\n",
      "|  Android Browser|              11|\n",
      "|          Firefox|              11|\n",
      "|          Vivaldi|              11|\n",
      "|   Microsoft Edge|              10|\n",
      "|Internet Explorer|              10|\n",
      "|       UC Browser|              10|\n",
      "|     Apple Safari|               9|\n",
      "|          Mozilla|               8|\n",
      "|  Dolphin browser|               8|\n",
      "|       Opera Neon|               8|\n",
      "|       Opera Mini|               8|\n",
      "+-----------------+----------------+\n",
      "\n"
     ]
    }
   ],
   "source": [
    "spark.sql('select UserAgent as Browser, count(UserAgent)  from weblog group by UserAgent order by count(UserAgent) desc').show()"
   ]
  },
  {
   "cell_type": "markdown",
   "metadata": {},
   "source": [
    "#### Payement Type"
   ]
  },
  {
   "cell_type": "code",
   "execution_count": 18,
   "metadata": {},
   "outputs": [
    {
     "name": "stdout",
     "output_type": "stream",
     "text": [
      "+----------------+--------------+\n",
      "|         VisChip|count(VisChip)|\n",
      "+----------------+--------------+\n",
      "|        Discover|            49|\n",
      "|            VISA|            62|\n",
      "|American Express|            47|\n",
      "|      MasterCard|            61|\n",
      "+----------------+--------------+\n",
      "\n"
     ]
    }
   ],
   "source": [
    "spark.sql(\"\"\"select VisChip, count(VisChip) from Weblog group by VisChip\"\"\").show()"
   ]
  },
  {
   "cell_type": "markdown",
   "metadata": {},
   "source": [
    "#### Connection Type"
   ]
  },
  {
   "cell_type": "code",
   "execution_count": 19,
   "metadata": {},
   "outputs": [
    {
     "name": "stdout",
     "output_type": "stream",
     "text": [
      "+--------+---------------+\n",
      "|ConxType|count(ConxType)|\n",
      "+--------+---------------+\n",
      "|     LTE|             62|\n",
      "|    CDMA|             52|\n",
      "|     GSM|             46|\n",
      "|   WiMax|             59|\n",
      "+--------+---------------+\n",
      "\n"
     ]
    }
   ],
   "source": [
    "spark.sql(\"\"\"select ConxType, count(ConxType) from weblog group by ConxType\"\"\").show()"
   ]
  },
  {
   "cell_type": "code",
   "execution_count": null,
   "metadata": {},
   "outputs": [],
   "source": []
  },
  {
   "cell_type": "code",
   "execution_count": null,
   "metadata": {},
   "outputs": [],
   "source": []
  }
 ],
 "metadata": {
  "kernelspec": {
   "display_name": "Python 3",
   "language": "python",
   "name": "python3"
  },
  "language_info": {
   "codemirror_mode": {
    "name": "ipython",
    "version": 3
   },
   "file_extension": ".py",
   "mimetype": "text/x-python",
   "name": "python",
   "nbconvert_exporter": "python",
   "pygments_lexer": "ipython3",
   "version": "3.8.3"
  }
 },
 "nbformat": 4,
 "nbformat_minor": 4
}
